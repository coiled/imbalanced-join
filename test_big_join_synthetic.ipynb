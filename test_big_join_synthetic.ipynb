{
 "cells": [
  {
   "cell_type": "code",
   "execution_count": 1,
   "id": "19b9e94b",
   "metadata": {},
   "outputs": [],
   "source": [
    "from coiled import Cluster\n",
    "from dask.distributed import Client"
   ]
  },
  {
   "cell_type": "code",
   "execution_count": null,
   "id": "7cc46a66",
   "metadata": {},
   "outputs": [],
   "source": [
    "cluster = Cluster( name=\"imbalance-join-renre\"  \n",
    "                   , n_workers        = 50\n",
    "                   , worker_memory    = \"64 GiB\" \n",
    "                   , scheduler_memory = \"32 GiB\"\n",
    "                   , package_sync=True\n",
    "                   ,scheduler_options={\"idle_timeout\": \"2 hour\"}  )"
   ]
  },
  {
   "cell_type": "code",
   "execution_count": null,
   "id": "99f1e0ee",
   "metadata": {},
   "outputs": [],
   "source": [
    "client = Client(cluster)\n",
    "client"
   ]
  },
  {
   "cell_type": "code",
   "execution_count": 5,
   "id": "ef3a1143",
   "metadata": {},
   "outputs": [],
   "source": [
    "import dask.dataframe as dd"
   ]
  },
  {
   "cell_type": "code",
   "execution_count": 6,
   "id": "528e0e8b",
   "metadata": {},
   "outputs": [],
   "source": [
    "from dask.distributed import performance_report, wait"
   ]
  },
  {
   "cell_type": "code",
   "execution_count": 7,
   "id": "b0084cb7",
   "metadata": {},
   "outputs": [],
   "source": [
    "df1_path = \"s3://test-imbalanced-join/df1/\"\n",
    "df2_path = \"s3://test-imbalanced-join/df2/\""
   ]
  },
  {
   "cell_type": "code",
   "execution_count": 8,
   "id": "049f6d35",
   "metadata": {},
   "outputs": [],
   "source": [
    "ddf1 = dd.read_parquet(df1_path)\n",
    "ddf2 = dd.read_parquet(df2_path)"
   ]
  },
  {
   "cell_type": "code",
   "execution_count": 9,
   "id": "573638c9",
   "metadata": {},
   "outputs": [
    {
     "data": {
      "text/html": [
       "<div><strong>Dask DataFrame Structure:</strong></div>\n",
       "<div>\n",
       "<style scoped>\n",
       "    .dataframe tbody tr th:only-of-type {\n",
       "        vertical-align: middle;\n",
       "    }\n",
       "\n",
       "    .dataframe tbody tr th {\n",
       "        vertical-align: top;\n",
       "    }\n",
       "\n",
       "    .dataframe thead th {\n",
       "        text-align: right;\n",
       "    }\n",
       "</style>\n",
       "<table border=\"1\" class=\"dataframe\">\n",
       "  <thead>\n",
       "    <tr style=\"text-align: right;\">\n",
       "      <th></th>\n",
       "      <th>key</th>\n",
       "      <th>bucket</th>\n",
       "      <th>group1</th>\n",
       "      <th>group2</th>\n",
       "      <th>group3</th>\n",
       "      <th>group4</th>\n",
       "      <th>value</th>\n",
       "    </tr>\n",
       "    <tr>\n",
       "      <th>npartitions=7000</th>\n",
       "      <th></th>\n",
       "      <th></th>\n",
       "      <th></th>\n",
       "      <th></th>\n",
       "      <th></th>\n",
       "      <th></th>\n",
       "      <th></th>\n",
       "    </tr>\n",
       "  </thead>\n",
       "  <tbody>\n",
       "    <tr>\n",
       "      <th></th>\n",
       "      <td>int64</td>\n",
       "      <td>int64</td>\n",
       "      <td>int64</td>\n",
       "      <td>int64</td>\n",
       "      <td>int64</td>\n",
       "      <td>int64</td>\n",
       "      <td>float64</td>\n",
       "    </tr>\n",
       "    <tr>\n",
       "      <th></th>\n",
       "      <td>...</td>\n",
       "      <td>...</td>\n",
       "      <td>...</td>\n",
       "      <td>...</td>\n",
       "      <td>...</td>\n",
       "      <td>...</td>\n",
       "      <td>...</td>\n",
       "    </tr>\n",
       "    <tr>\n",
       "      <th>...</th>\n",
       "      <td>...</td>\n",
       "      <td>...</td>\n",
       "      <td>...</td>\n",
       "      <td>...</td>\n",
       "      <td>...</td>\n",
       "      <td>...</td>\n",
       "      <td>...</td>\n",
       "    </tr>\n",
       "    <tr>\n",
       "      <th></th>\n",
       "      <td>...</td>\n",
       "      <td>...</td>\n",
       "      <td>...</td>\n",
       "      <td>...</td>\n",
       "      <td>...</td>\n",
       "      <td>...</td>\n",
       "      <td>...</td>\n",
       "    </tr>\n",
       "    <tr>\n",
       "      <th></th>\n",
       "      <td>...</td>\n",
       "      <td>...</td>\n",
       "      <td>...</td>\n",
       "      <td>...</td>\n",
       "      <td>...</td>\n",
       "      <td>...</td>\n",
       "      <td>...</td>\n",
       "    </tr>\n",
       "  </tbody>\n",
       "</table>\n",
       "</div>\n",
       "<div>Dask Name: read-parquet, 1 graph layer</div>"
      ],
      "text/plain": [
       "Dask DataFrame Structure:\n",
       "                    key bucket group1 group2 group3 group4    value\n",
       "npartitions=7000                                                   \n",
       "                  int64  int64  int64  int64  int64  int64  float64\n",
       "                    ...    ...    ...    ...    ...    ...      ...\n",
       "...                 ...    ...    ...    ...    ...    ...      ...\n",
       "                    ...    ...    ...    ...    ...    ...      ...\n",
       "                    ...    ...    ...    ...    ...    ...      ...\n",
       "Dask Name: read-parquet, 1 graph layer"
      ]
     },
     "execution_count": 9,
     "metadata": {},
     "output_type": "execute_result"
    }
   ],
   "source": [
    "ddf1"
   ]
  },
  {
   "cell_type": "code",
   "execution_count": 10,
   "id": "fc07bfb3",
   "metadata": {},
   "outputs": [
    {
     "data": {
      "text/html": [
       "<div><strong>Dask DataFrame Structure:</strong></div>\n",
       "<div>\n",
       "<style scoped>\n",
       "    .dataframe tbody tr th:only-of-type {\n",
       "        vertical-align: middle;\n",
       "    }\n",
       "\n",
       "    .dataframe tbody tr th {\n",
       "        vertical-align: top;\n",
       "    }\n",
       "\n",
       "    .dataframe thead th {\n",
       "        text-align: right;\n",
       "    }\n",
       "</style>\n",
       "<table border=\"1\" class=\"dataframe\">\n",
       "  <thead>\n",
       "    <tr style=\"text-align: right;\">\n",
       "      <th></th>\n",
       "      <th>df2_group</th>\n",
       "      <th>key</th>\n",
       "    </tr>\n",
       "    <tr>\n",
       "      <th>npartitions=1</th>\n",
       "      <th></th>\n",
       "      <th></th>\n",
       "    </tr>\n",
       "  </thead>\n",
       "  <tbody>\n",
       "    <tr>\n",
       "      <th></th>\n",
       "      <td>int64</td>\n",
       "      <td>int64</td>\n",
       "    </tr>\n",
       "    <tr>\n",
       "      <th></th>\n",
       "      <td>...</td>\n",
       "      <td>...</td>\n",
       "    </tr>\n",
       "  </tbody>\n",
       "</table>\n",
       "</div>\n",
       "<div>Dask Name: read-parquet, 1 graph layer</div>"
      ],
      "text/plain": [
       "Dask DataFrame Structure:\n",
       "              df2_group    key\n",
       "npartitions=1                 \n",
       "                  int64  int64\n",
       "                    ...    ...\n",
       "Dask Name: read-parquet, 1 graph layer"
      ]
     },
     "execution_count": 10,
     "metadata": {},
     "output_type": "execute_result"
    }
   ],
   "source": [
    "ddf2"
   ]
  },
  {
   "cell_type": "markdown",
   "id": "fdc56396",
   "metadata": {},
   "source": [
    "# Step_1"
   ]
  },
  {
   "cell_type": "code",
   "execution_count": 11,
   "id": "e535b7e3",
   "metadata": {},
   "outputs": [
    {
     "name": "stdout",
     "output_type": "stream",
     "text": [
      "bucket_n_scenario [4001]: [1, 11, 21, 31, 41, 51, 61, 71, 81, 91, 101, 111, 121, 131, 141, 151, 161, 171, 181, 191, 201, 211, 221, 231, 241, 251, 261, 271, 281, 291, 301, 311, 321, 331, 341, 351, 361, 371, 381, 391, 401, 411, 421, 431, 441, 451, 461, 471, 481, 491]\n"
     ]
    }
   ],
   "source": [
    "bucket_n_scenario = list(range(1, 40002, 10))\n",
    "print('bucket_n_scenario [{0}]: {1}'.format(len(bucket_n_scenario), bucket_n_scenario[:50]))"
   ]
  },
  {
   "cell_type": "code",
   "execution_count": 12,
   "id": "67f6f71e",
   "metadata": {},
   "outputs": [],
   "source": [
    "with performance_report(filename='imbalance_synthetic_step01.html'):\n",
    "    ddf1 = ddf1.set_index('bucket', drop=False, divisions=bucket_n_scenario)\n",
    "    ddf1 = ddf1.persist()\n",
    "    wait(ddf1)"
   ]
  },
  {
   "cell_type": "markdown",
   "id": "050f597b",
   "metadata": {},
   "source": [
    "# Step_2\n",
    " \t \t \t  \t"
   ]
  },
  {
   "cell_type": "code",
   "execution_count": null,
   "id": "8612e403",
   "metadata": {},
   "outputs": [],
   "source": [
    "%%time\n",
    "\n",
    "ddf_bigjoin = ddf1.merge(\n",
    "      right=ddf2\n",
    "    , how='inner'\n",
    "    , on=['key', 'key']\n",
    "    , suffixes=['_l', '_r']\n",
    "    )[['df2_group', 'bucket', 'group1', 'group2', 'group3', 'group4', 'value']]\n",
    "\n",
    "\n",
    "def get_bigjoin_groupby(df):\n",
    "             \n",
    "    df = df.groupby(['df2_group', 'bucket', 'group1', 'group2', 'group3', 'group4'], sort=False).agg({'value': 'sum'})\n",
    "    \n",
    "    return df\n",
    "\n",
    "\n",
    "ddf_bigjoin = ddf_bigjoin.map_partitions(get_bigjoin_groupby)\n"
   ]
  },
  {
   "cell_type": "code",
   "execution_count": 15,
   "id": "1903633b",
   "metadata": {},
   "outputs": [
    {
     "name": "stdout",
     "output_type": "stream",
     "text": [
      "CPU times: user 942 ms, sys: 280 ms, total: 1.22 s\n",
      "Wall time: 4min 4s\n"
     ]
    }
   ],
   "source": [
    "%%time\n",
    "with performance_report(filename='imbalance_synthetic_step02.html'):\n",
    "    ddf_bigjoin.to_parquet(\n",
    "          path=\"s3://test-imbalanced-join/ouput_join/\"\n",
    "        , engine=\"pyarrow\"                       \n",
    "        , overwrite=True\n",
    "        , write_metadata_file=False\n",
    "        , compression=\"snappy\"\n",
    "        , write_index=True\n",
    "        )\n",
    "\n"
   ]
  },
  {
   "cell_type": "code",
   "execution_count": 17,
   "id": "73fa6a38",
   "metadata": {},
   "outputs": [
    {
     "data": {
      "text/plain": [
       "63514149896"
      ]
     },
     "execution_count": 17,
     "metadata": {},
     "output_type": "execute_result"
    }
   ],
   "source": [
    "len(ddf_bigjoin.value)"
   ]
  },
  {
   "cell_type": "code",
   "execution_count": 18,
   "id": "f24187d8",
   "metadata": {},
   "outputs": [
    {
     "data": {
      "text/plain": [
       "63.514149896"
      ]
     },
     "execution_count": 18,
     "metadata": {},
     "output_type": "execute_result"
    }
   ],
   "source": [
    "#len(ddf_bigjoin.value) = 63514149896\n",
    "63514149896/1e9"
   ]
  },
  {
   "cell_type": "code",
   "execution_count": null,
   "id": "5cc4dadf",
   "metadata": {},
   "outputs": [],
   "source": []
  }
 ],
 "metadata": {
  "kernelspec": {
   "display_name": "Python 3 (ipykernel)",
   "language": "python",
   "name": "python3"
  },
  "language_info": {
   "codemirror_mode": {
    "name": "ipython",
    "version": 3
   },
   "file_extension": ".py",
   "mimetype": "text/x-python",
   "name": "python",
   "nbconvert_exporter": "python",
   "pygments_lexer": "ipython3",
   "version": "3.9.13"
  }
 },
 "nbformat": 4,
 "nbformat_minor": 5
}
