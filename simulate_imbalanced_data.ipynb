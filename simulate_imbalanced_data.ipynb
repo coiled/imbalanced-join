{
 "cells": [
  {
   "cell_type": "markdown",
   "id": "25f94438-5aaf-473d-8ca2-53b354d43856",
   "metadata": {},
   "source": [
    "# Imbalanced Data Join\n",
    "\n",
    "## Background\n",
    "\n",
    "We've run into some applied situations in the wild where joins on highly imbalanced data behaves poorly in Dask. In some situtions the run time is more than desired, and in others workers may die unexpectedly. The purpose of this notebook is to create two simulated data sets that exhibits the type of problematic imbalance that we've encountred in the wild. We'll have a few parameters in here so we can create datasets of different sizes that exhibit the gnarly imbalance and these can be used for practical test cases. \n",
    "\n"
   ]
  },
  {
   "cell_type": "code",
   "execution_count": 3,
   "id": "b17b714c-584f-45a2-87d1-24787c19e8c2",
   "metadata": {},
   "outputs": [],
   "source": [
    "import pandas as pd\n",
    "import scipy.stats as ss"
   ]
  },
  {
   "cell_type": "markdown",
   "id": "9f9f02a9-3ab1-4cda-bd64-5cd5a234726b",
   "metadata": {},
   "source": [
    "## df1 - data with large record count\n",
    "\n",
    "The first dataframe is going to be  `df1` and it is the larger table in terms of record count. The fields in `df1` are as follows:\n",
    "\n",
    "`key`: the key used to join with `df2` later. The number of unique keys is low compared to the number of records in each key\n",
    "\n",
    "`bucket1`: Every key has the same number of unique values in `bucket1`. That number is set by a constant below\n",
    "\n",
    "`group1`: There are 4 groupings. Each of these groupings is assinged a key and they are later used in a group by \n",
    "\n",
    "`group2`: see above\n",
    "\n",
    "`group3`: see above\n",
    "\n",
    "`group4`: see above\n",
    "\n",
    "`value`: This is the value we will sum later. It's random and has no impact on the process in any way. "
   ]
  },
  {
   "cell_type": "code",
   "execution_count": null,
   "id": "86632d90-7167-4ae1-a376-35b3a710671b",
   "metadata": {},
   "outputs": [],
   "source": []
  },
  {
   "cell_type": "code",
   "execution_count": null,
   "id": "b74a1867-480b-4ed6-97e7-9fea730235c5",
   "metadata": {},
   "outputs": [],
   "source": []
  }
 ],
 "metadata": {
  "kernelspec": {
   "display_name": "data_stuff",
   "language": "python",
   "name": "data_stuff"
  },
  "language_info": {
   "codemirror_mode": {
    "name": "ipython",
    "version": 3
   },
   "file_extension": ".py",
   "mimetype": "text/x-python",
   "name": "python",
   "nbconvert_exporter": "python",
   "pygments_lexer": "ipython3",
   "version": "3.10.6"
  }
 },
 "nbformat": 4,
 "nbformat_minor": 5
}
